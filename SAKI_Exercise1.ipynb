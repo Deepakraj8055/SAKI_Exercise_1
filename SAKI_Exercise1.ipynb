{
 "cells": [
  {
   "cell_type": "markdown",
   "metadata": {},
   "source": [
    "###### importing libraries as per required"
   ]
  },
  {
   "cell_type": "code",
   "execution_count": 1,
   "metadata": {},
   "outputs": [],
   "source": [
    "import pandas as pd\n",
    "import numpy as np\n",
    "import matplotlib.pyplot as plt\n",
    "from sklearn.model_selection import train_test_split\n",
    "from sklearn.feature_extraction.text import CountVectorizer\n",
    "from sklearn import metrics\n",
    "from sklearn.naive_bayes import GaussianNB, MultinomialNB\n",
    "from sklearn.metrics import accuracy_score, precision_score, recall_score, f1_score, classification_report\n",
    "from sklearn.metrics import plot_confusion_matrix, roc_curve\n",
    "from sklearn.preprocessing import MinMaxScaler\n",
    "from sklearn.preprocessing import LabelEncoder"
   ]
  },
  {
   "cell_type": "markdown",
   "metadata": {},
   "source": [
    "###### Loading the data file"
   ]
  },
  {
   "cell_type": "code",
   "execution_count": 2,
   "metadata": {},
   "outputs": [
    {
     "data": {
      "text/html": [
       "<div>\n",
       "<style scoped>\n",
       "    .dataframe tbody tr th:only-of-type {\n",
       "        vertical-align: middle;\n",
       "    }\n",
       "\n",
       "    .dataframe tbody tr th {\n",
       "        vertical-align: top;\n",
       "    }\n",
       "\n",
       "    .dataframe thead th {\n",
       "        text-align: right;\n",
       "    }\n",
       "</style>\n",
       "<table border=\"1\" class=\"dataframe\">\n",
       "  <thead>\n",
       "    <tr style=\"text-align: right;\">\n",
       "      <th></th>\n",
       "      <th>Unnamed: 0</th>\n",
       "      <th>Auftragskonto</th>\n",
       "      <th>Buchungstag</th>\n",
       "      <th>Valutadatum</th>\n",
       "      <th>Buchungstext</th>\n",
       "      <th>Verwendungszweck</th>\n",
       "      <th>Beguenstigter/Zahlungspflichtiger</th>\n",
       "      <th>Kontonummer</th>\n",
       "      <th>BLZ</th>\n",
       "      <th>Betrag</th>\n",
       "      <th>Waehrung</th>\n",
       "      <th>label</th>\n",
       "    </tr>\n",
       "  </thead>\n",
       "  <tbody>\n",
       "    <tr>\n",
       "      <th>0</th>\n",
       "      <td>0</td>\n",
       "      <td>89990201.0</td>\n",
       "      <td>28.07.2016</td>\n",
       "      <td>28.07.2016</td>\n",
       "      <td>Lohn / Gehalt</td>\n",
       "      <td>Gehalt Adorsys GmbH &amp; Co. KG End-To-End-Ref.: ...</td>\n",
       "      <td>Adorsys GmbH &amp; Co. KG</td>\n",
       "      <td>7807800780</td>\n",
       "      <td>25190001</td>\n",
       "      <td>2000.00</td>\n",
       "      <td>EUR</td>\n",
       "      <td>income</td>\n",
       "    </tr>\n",
       "    <tr>\n",
       "      <th>1</th>\n",
       "      <td>1</td>\n",
       "      <td>89990201.0</td>\n",
       "      <td>27.07.2016</td>\n",
       "      <td>27.07.2016</td>\n",
       "      <td>Miete</td>\n",
       "      <td>Byladem1Sbt De12773501123456789889 Miete Beuth...</td>\n",
       "      <td>Georg Tasche</td>\n",
       "      <td>DE31251900019123456780</td>\n",
       "      <td>VOHADE2HXXX</td>\n",
       "      <td>-670.00</td>\n",
       "      <td>EUR</td>\n",
       "      <td>living</td>\n",
       "    </tr>\n",
       "    <tr>\n",
       "      <th>2</th>\n",
       "      <td>2</td>\n",
       "      <td>89990201.0</td>\n",
       "      <td>21.07.2016</td>\n",
       "      <td>21.07.2016</td>\n",
       "      <td>Bargeld</td>\n",
       "      <td>21.07/16.34Uhr Nuernberg All Eur 70,00 Geb.Eur...</td>\n",
       "      <td>Bargeld</td>\n",
       "      <td>9999900780</td>\n",
       "      <td>25190001</td>\n",
       "      <td>-70.00</td>\n",
       "      <td>EUR</td>\n",
       "      <td>private</td>\n",
       "    </tr>\n",
       "    <tr>\n",
       "      <th>3</th>\n",
       "      <td>3</td>\n",
       "      <td>89990201.0</td>\n",
       "      <td>20.07.2016</td>\n",
       "      <td>20.07.2016</td>\n",
       "      <td>Lebensmittel / Getraenke</td>\n",
       "      <td>2831 Edeka Neubauer Nuernb.//Nuernb 2016-07-20...</td>\n",
       "      <td>Kartenzahlung</td>\n",
       "      <td>9736000780</td>\n",
       "      <td>25190001</td>\n",
       "      <td>-73.21</td>\n",
       "      <td>EUR</td>\n",
       "      <td>standardOfLiving</td>\n",
       "    </tr>\n",
       "    <tr>\n",
       "      <th>4</th>\n",
       "      <td>4</td>\n",
       "      <td>89990201.0</td>\n",
       "      <td>18.07.2016</td>\n",
       "      <td>18.07.2016</td>\n",
       "      <td>Spontanausgabe</td>\n",
       "      <td>Amazon</td>\n",
       "      <td>neue Playstation</td>\n",
       "      <td>9988776655</td>\n",
       "      <td>25125100</td>\n",
       "      <td>-363</td>\n",
       "      <td>EUR</td>\n",
       "      <td>leisure</td>\n",
       "    </tr>\n",
       "    <tr>\n",
       "      <th>...</th>\n",
       "      <td>...</td>\n",
       "      <td>...</td>\n",
       "      <td>...</td>\n",
       "      <td>...</td>\n",
       "      <td>...</td>\n",
       "      <td>...</td>\n",
       "      <td>...</td>\n",
       "      <td>...</td>\n",
       "      <td>...</td>\n",
       "      <td>...</td>\n",
       "      <td>...</td>\n",
       "      <td>...</td>\n",
       "    </tr>\n",
       "    <tr>\n",
       "      <th>204</th>\n",
       "      <td>204</td>\n",
       "      <td>NaN</td>\n",
       "      <td>15.02.2016</td>\n",
       "      <td>15.02.2016</td>\n",
       "      <td>Mieteinnahmen</td>\n",
       "      <td>Mietzuschuss End-To-End-Ref.: Notprovided Kund...</td>\n",
       "      <td>Isabel Anna</td>\n",
       "      <td>DE31251900019736000780</td>\n",
       "      <td>VOHADE2HXXX</td>\n",
       "      <td>200.00</td>\n",
       "      <td>EUR</td>\n",
       "      <td>finance</td>\n",
       "    </tr>\n",
       "    <tr>\n",
       "      <th>205</th>\n",
       "      <td>205</td>\n",
       "      <td>NaN</td>\n",
       "      <td>02.02.2016</td>\n",
       "      <td>02.02.2016</td>\n",
       "      <td>Geldanlage</td>\n",
       "      <td>Ccbade31Xxx De71310108339900123456 Sparen End-...</td>\n",
       "      <td>Michael Koffer</td>\n",
       "      <td>DE69790800529736000780</td>\n",
       "      <td>DRESDEFF790</td>\n",
       "      <td>-300.00</td>\n",
       "      <td>EUR</td>\n",
       "      <td>finance</td>\n",
       "    </tr>\n",
       "    <tr>\n",
       "      <th>206</th>\n",
       "      <td>206</td>\n",
       "      <td>NaN</td>\n",
       "      <td>28.01.2016</td>\n",
       "      <td>28.01.2016</td>\n",
       "      <td>Lohn / Gehalt</td>\n",
       "      <td>Gehalt Adorsys GmbH &amp; Co. KG End-To-End-Ref.: ...</td>\n",
       "      <td>Adorsys GmbH &amp; Co. KG</td>\n",
       "      <td>7807800780</td>\n",
       "      <td>25190001</td>\n",
       "      <td>2000.00</td>\n",
       "      <td>EUR</td>\n",
       "      <td>income</td>\n",
       "    </tr>\n",
       "    <tr>\n",
       "      <th>207</th>\n",
       "      <td>207</td>\n",
       "      <td>NaN</td>\n",
       "      <td>28.01.2016</td>\n",
       "      <td>28.01.2016</td>\n",
       "      <td>Geldanlage</td>\n",
       "      <td>Ssknde77Xxx De41760501010012345675 Einmalspare...</td>\n",
       "      <td>Christina Jung</td>\n",
       "      <td>DE31251900019736333780</td>\n",
       "      <td>VOHADE2HXXX</td>\n",
       "      <td>-4000.00</td>\n",
       "      <td>EUR</td>\n",
       "      <td>finance</td>\n",
       "    </tr>\n",
       "    <tr>\n",
       "      <th>208</th>\n",
       "      <td>208</td>\n",
       "      <td>89990210.0</td>\n",
       "      <td>08.01.2016</td>\n",
       "      <td>08.01.2016</td>\n",
       "      <td>Lastschrift (Einzugsermächtigung)</td>\n",
       "      <td>Abonnement Kd-Nr. 5104489.</td>\n",
       "      <td>Vag</td>\n",
       "      <td>DE89760501010001011500</td>\n",
       "      <td>SSKNDE77</td>\n",
       "      <td>-51,2</td>\n",
       "      <td>EUR</td>\n",
       "      <td>leisure</td>\n",
       "    </tr>\n",
       "  </tbody>\n",
       "</table>\n",
       "<p>209 rows × 12 columns</p>\n",
       "</div>"
      ],
      "text/plain": [
       "     Unnamed: 0  Auftragskonto Buchungstag Valutadatum  \\\n",
       "0             0     89990201.0  28.07.2016  28.07.2016   \n",
       "1             1     89990201.0  27.07.2016  27.07.2016   \n",
       "2             2     89990201.0  21.07.2016  21.07.2016   \n",
       "3             3     89990201.0  20.07.2016  20.07.2016   \n",
       "4             4     89990201.0  18.07.2016  18.07.2016   \n",
       "..          ...            ...         ...         ...   \n",
       "204         204            NaN  15.02.2016  15.02.2016   \n",
       "205         205            NaN  02.02.2016  02.02.2016   \n",
       "206         206            NaN  28.01.2016  28.01.2016   \n",
       "207         207            NaN  28.01.2016  28.01.2016   \n",
       "208         208     89990210.0  08.01.2016  08.01.2016   \n",
       "\n",
       "                          Buchungstext  \\\n",
       "0                        Lohn / Gehalt   \n",
       "1                                Miete   \n",
       "2                              Bargeld   \n",
       "3             Lebensmittel / Getraenke   \n",
       "4                       Spontanausgabe   \n",
       "..                                 ...   \n",
       "204                      Mieteinnahmen   \n",
       "205                         Geldanlage   \n",
       "206                      Lohn / Gehalt   \n",
       "207                         Geldanlage   \n",
       "208  Lastschrift (Einzugsermächtigung)   \n",
       "\n",
       "                                      Verwendungszweck  \\\n",
       "0    Gehalt Adorsys GmbH & Co. KG End-To-End-Ref.: ...   \n",
       "1    Byladem1Sbt De12773501123456789889 Miete Beuth...   \n",
       "2    21.07/16.34Uhr Nuernberg All Eur 70,00 Geb.Eur...   \n",
       "3    2831 Edeka Neubauer Nuernb.//Nuernb 2016-07-20...   \n",
       "4                                               Amazon   \n",
       "..                                                 ...   \n",
       "204  Mietzuschuss End-To-End-Ref.: Notprovided Kund...   \n",
       "205  Ccbade31Xxx De71310108339900123456 Sparen End-...   \n",
       "206  Gehalt Adorsys GmbH & Co. KG End-To-End-Ref.: ...   \n",
       "207  Ssknde77Xxx De41760501010012345675 Einmalspare...   \n",
       "208                         Abonnement Kd-Nr. 5104489.   \n",
       "\n",
       "    Beguenstigter/Zahlungspflichtiger             Kontonummer          BLZ  \\\n",
       "0               Adorsys GmbH & Co. KG              7807800780     25190001   \n",
       "1                        Georg Tasche  DE31251900019123456780  VOHADE2HXXX   \n",
       "2                             Bargeld              9999900780     25190001   \n",
       "3                       Kartenzahlung              9736000780     25190001   \n",
       "4                    neue Playstation              9988776655     25125100   \n",
       "..                                ...                     ...          ...   \n",
       "204                       Isabel Anna  DE31251900019736000780  VOHADE2HXXX   \n",
       "205                    Michael Koffer  DE69790800529736000780  DRESDEFF790   \n",
       "206             Adorsys GmbH & Co. KG              7807800780     25190001   \n",
       "207                    Christina Jung  DE31251900019736333780  VOHADE2HXXX   \n",
       "208                               Vag  DE89760501010001011500     SSKNDE77   \n",
       "\n",
       "       Betrag Waehrung             label  \n",
       "0     2000.00      EUR            income  \n",
       "1     -670.00      EUR            living  \n",
       "2      -70.00      EUR           private  \n",
       "3      -73.21      EUR  standardOfLiving  \n",
       "4        -363      EUR           leisure  \n",
       "..        ...      ...               ...  \n",
       "204    200.00      EUR           finance  \n",
       "205   -300.00      EUR           finance  \n",
       "206   2000.00      EUR            income  \n",
       "207  -4000.00      EUR           finance  \n",
       "208     -51,2      EUR           leisure  \n",
       "\n",
       "[209 rows x 12 columns]"
      ]
     },
     "execution_count": 2,
     "metadata": {},
     "output_type": "execute_result"
    }
   ],
   "source": [
    "df = pd.read_csv('SAKI Exercise 1 - Transaction Classification - Data Set.csv', error_bad_lines=False, sep=';')\n",
    "df"
   ]
  },
  {
   "cell_type": "markdown",
   "metadata": {},
   "source": [
    "###### Droping the Index Column"
   ]
  },
  {
   "cell_type": "code",
   "execution_count": 3,
   "metadata": {},
   "outputs": [
    {
     "data": {
      "text/html": [
       "<div>\n",
       "<style scoped>\n",
       "    .dataframe tbody tr th:only-of-type {\n",
       "        vertical-align: middle;\n",
       "    }\n",
       "\n",
       "    .dataframe tbody tr th {\n",
       "        vertical-align: top;\n",
       "    }\n",
       "\n",
       "    .dataframe thead th {\n",
       "        text-align: right;\n",
       "    }\n",
       "</style>\n",
       "<table border=\"1\" class=\"dataframe\">\n",
       "  <thead>\n",
       "    <tr style=\"text-align: right;\">\n",
       "      <th></th>\n",
       "      <th>Auftragskonto</th>\n",
       "      <th>Buchungstag</th>\n",
       "      <th>Valutadatum</th>\n",
       "      <th>Buchungstext</th>\n",
       "      <th>Verwendungszweck</th>\n",
       "      <th>Beguenstigter/Zahlungspflichtiger</th>\n",
       "      <th>Kontonummer</th>\n",
       "      <th>BLZ</th>\n",
       "      <th>Betrag</th>\n",
       "      <th>Waehrung</th>\n",
       "      <th>label</th>\n",
       "    </tr>\n",
       "  </thead>\n",
       "  <tbody>\n",
       "    <tr>\n",
       "      <th>0</th>\n",
       "      <td>89990201.0</td>\n",
       "      <td>28.07.2016</td>\n",
       "      <td>28.07.2016</td>\n",
       "      <td>Lohn / Gehalt</td>\n",
       "      <td>Gehalt Adorsys GmbH &amp; Co. KG End-To-End-Ref.: ...</td>\n",
       "      <td>Adorsys GmbH &amp; Co. KG</td>\n",
       "      <td>7807800780</td>\n",
       "      <td>25190001</td>\n",
       "      <td>2000.00</td>\n",
       "      <td>EUR</td>\n",
       "      <td>income</td>\n",
       "    </tr>\n",
       "    <tr>\n",
       "      <th>1</th>\n",
       "      <td>89990201.0</td>\n",
       "      <td>27.07.2016</td>\n",
       "      <td>27.07.2016</td>\n",
       "      <td>Miete</td>\n",
       "      <td>Byladem1Sbt De12773501123456789889 Miete Beuth...</td>\n",
       "      <td>Georg Tasche</td>\n",
       "      <td>DE31251900019123456780</td>\n",
       "      <td>VOHADE2HXXX</td>\n",
       "      <td>-670.00</td>\n",
       "      <td>EUR</td>\n",
       "      <td>living</td>\n",
       "    </tr>\n",
       "    <tr>\n",
       "      <th>2</th>\n",
       "      <td>89990201.0</td>\n",
       "      <td>21.07.2016</td>\n",
       "      <td>21.07.2016</td>\n",
       "      <td>Bargeld</td>\n",
       "      <td>21.07/16.34Uhr Nuernberg All Eur 70,00 Geb.Eur...</td>\n",
       "      <td>Bargeld</td>\n",
       "      <td>9999900780</td>\n",
       "      <td>25190001</td>\n",
       "      <td>-70.00</td>\n",
       "      <td>EUR</td>\n",
       "      <td>private</td>\n",
       "    </tr>\n",
       "    <tr>\n",
       "      <th>3</th>\n",
       "      <td>89990201.0</td>\n",
       "      <td>20.07.2016</td>\n",
       "      <td>20.07.2016</td>\n",
       "      <td>Lebensmittel / Getraenke</td>\n",
       "      <td>2831 Edeka Neubauer Nuernb.//Nuernb 2016-07-20...</td>\n",
       "      <td>Kartenzahlung</td>\n",
       "      <td>9736000780</td>\n",
       "      <td>25190001</td>\n",
       "      <td>-73.21</td>\n",
       "      <td>EUR</td>\n",
       "      <td>standardOfLiving</td>\n",
       "    </tr>\n",
       "    <tr>\n",
       "      <th>4</th>\n",
       "      <td>89990201.0</td>\n",
       "      <td>18.07.2016</td>\n",
       "      <td>18.07.2016</td>\n",
       "      <td>Spontanausgabe</td>\n",
       "      <td>Amazon</td>\n",
       "      <td>neue Playstation</td>\n",
       "      <td>9988776655</td>\n",
       "      <td>25125100</td>\n",
       "      <td>-363</td>\n",
       "      <td>EUR</td>\n",
       "      <td>leisure</td>\n",
       "    </tr>\n",
       "    <tr>\n",
       "      <th>...</th>\n",
       "      <td>...</td>\n",
       "      <td>...</td>\n",
       "      <td>...</td>\n",
       "      <td>...</td>\n",
       "      <td>...</td>\n",
       "      <td>...</td>\n",
       "      <td>...</td>\n",
       "      <td>...</td>\n",
       "      <td>...</td>\n",
       "      <td>...</td>\n",
       "      <td>...</td>\n",
       "    </tr>\n",
       "    <tr>\n",
       "      <th>204</th>\n",
       "      <td>NaN</td>\n",
       "      <td>15.02.2016</td>\n",
       "      <td>15.02.2016</td>\n",
       "      <td>Mieteinnahmen</td>\n",
       "      <td>Mietzuschuss End-To-End-Ref.: Notprovided Kund...</td>\n",
       "      <td>Isabel Anna</td>\n",
       "      <td>DE31251900019736000780</td>\n",
       "      <td>VOHADE2HXXX</td>\n",
       "      <td>200.00</td>\n",
       "      <td>EUR</td>\n",
       "      <td>finance</td>\n",
       "    </tr>\n",
       "    <tr>\n",
       "      <th>205</th>\n",
       "      <td>NaN</td>\n",
       "      <td>02.02.2016</td>\n",
       "      <td>02.02.2016</td>\n",
       "      <td>Geldanlage</td>\n",
       "      <td>Ccbade31Xxx De71310108339900123456 Sparen End-...</td>\n",
       "      <td>Michael Koffer</td>\n",
       "      <td>DE69790800529736000780</td>\n",
       "      <td>DRESDEFF790</td>\n",
       "      <td>-300.00</td>\n",
       "      <td>EUR</td>\n",
       "      <td>finance</td>\n",
       "    </tr>\n",
       "    <tr>\n",
       "      <th>206</th>\n",
       "      <td>NaN</td>\n",
       "      <td>28.01.2016</td>\n",
       "      <td>28.01.2016</td>\n",
       "      <td>Lohn / Gehalt</td>\n",
       "      <td>Gehalt Adorsys GmbH &amp; Co. KG End-To-End-Ref.: ...</td>\n",
       "      <td>Adorsys GmbH &amp; Co. KG</td>\n",
       "      <td>7807800780</td>\n",
       "      <td>25190001</td>\n",
       "      <td>2000.00</td>\n",
       "      <td>EUR</td>\n",
       "      <td>income</td>\n",
       "    </tr>\n",
       "    <tr>\n",
       "      <th>207</th>\n",
       "      <td>NaN</td>\n",
       "      <td>28.01.2016</td>\n",
       "      <td>28.01.2016</td>\n",
       "      <td>Geldanlage</td>\n",
       "      <td>Ssknde77Xxx De41760501010012345675 Einmalspare...</td>\n",
       "      <td>Christina Jung</td>\n",
       "      <td>DE31251900019736333780</td>\n",
       "      <td>VOHADE2HXXX</td>\n",
       "      <td>-4000.00</td>\n",
       "      <td>EUR</td>\n",
       "      <td>finance</td>\n",
       "    </tr>\n",
       "    <tr>\n",
       "      <th>208</th>\n",
       "      <td>89990210.0</td>\n",
       "      <td>08.01.2016</td>\n",
       "      <td>08.01.2016</td>\n",
       "      <td>Lastschrift (Einzugsermächtigung)</td>\n",
       "      <td>Abonnement Kd-Nr. 5104489.</td>\n",
       "      <td>Vag</td>\n",
       "      <td>DE89760501010001011500</td>\n",
       "      <td>SSKNDE77</td>\n",
       "      <td>-51,2</td>\n",
       "      <td>EUR</td>\n",
       "      <td>leisure</td>\n",
       "    </tr>\n",
       "  </tbody>\n",
       "</table>\n",
       "<p>209 rows × 11 columns</p>\n",
       "</div>"
      ],
      "text/plain": [
       "     Auftragskonto Buchungstag Valutadatum                       Buchungstext  \\\n",
       "0       89990201.0  28.07.2016  28.07.2016                      Lohn / Gehalt   \n",
       "1       89990201.0  27.07.2016  27.07.2016                              Miete   \n",
       "2       89990201.0  21.07.2016  21.07.2016                            Bargeld   \n",
       "3       89990201.0  20.07.2016  20.07.2016           Lebensmittel / Getraenke   \n",
       "4       89990201.0  18.07.2016  18.07.2016                     Spontanausgabe   \n",
       "..             ...         ...         ...                                ...   \n",
       "204            NaN  15.02.2016  15.02.2016                      Mieteinnahmen   \n",
       "205            NaN  02.02.2016  02.02.2016                         Geldanlage   \n",
       "206            NaN  28.01.2016  28.01.2016                      Lohn / Gehalt   \n",
       "207            NaN  28.01.2016  28.01.2016                         Geldanlage   \n",
       "208     89990210.0  08.01.2016  08.01.2016  Lastschrift (Einzugsermächtigung)   \n",
       "\n",
       "                                      Verwendungszweck  \\\n",
       "0    Gehalt Adorsys GmbH & Co. KG End-To-End-Ref.: ...   \n",
       "1    Byladem1Sbt De12773501123456789889 Miete Beuth...   \n",
       "2    21.07/16.34Uhr Nuernberg All Eur 70,00 Geb.Eur...   \n",
       "3    2831 Edeka Neubauer Nuernb.//Nuernb 2016-07-20...   \n",
       "4                                               Amazon   \n",
       "..                                                 ...   \n",
       "204  Mietzuschuss End-To-End-Ref.: Notprovided Kund...   \n",
       "205  Ccbade31Xxx De71310108339900123456 Sparen End-...   \n",
       "206  Gehalt Adorsys GmbH & Co. KG End-To-End-Ref.: ...   \n",
       "207  Ssknde77Xxx De41760501010012345675 Einmalspare...   \n",
       "208                         Abonnement Kd-Nr. 5104489.   \n",
       "\n",
       "    Beguenstigter/Zahlungspflichtiger             Kontonummer          BLZ  \\\n",
       "0               Adorsys GmbH & Co. KG              7807800780     25190001   \n",
       "1                        Georg Tasche  DE31251900019123456780  VOHADE2HXXX   \n",
       "2                             Bargeld              9999900780     25190001   \n",
       "3                       Kartenzahlung              9736000780     25190001   \n",
       "4                    neue Playstation              9988776655     25125100   \n",
       "..                                ...                     ...          ...   \n",
       "204                       Isabel Anna  DE31251900019736000780  VOHADE2HXXX   \n",
       "205                    Michael Koffer  DE69790800529736000780  DRESDEFF790   \n",
       "206             Adorsys GmbH & Co. KG              7807800780     25190001   \n",
       "207                    Christina Jung  DE31251900019736333780  VOHADE2HXXX   \n",
       "208                               Vag  DE89760501010001011500     SSKNDE77   \n",
       "\n",
       "       Betrag Waehrung             label  \n",
       "0     2000.00      EUR            income  \n",
       "1     -670.00      EUR            living  \n",
       "2      -70.00      EUR           private  \n",
       "3      -73.21      EUR  standardOfLiving  \n",
       "4        -363      EUR           leisure  \n",
       "..        ...      ...               ...  \n",
       "204    200.00      EUR           finance  \n",
       "205   -300.00      EUR           finance  \n",
       "206   2000.00      EUR            income  \n",
       "207  -4000.00      EUR           finance  \n",
       "208     -51,2      EUR           leisure  \n",
       "\n",
       "[209 rows x 11 columns]"
      ]
     },
     "execution_count": 3,
     "metadata": {},
     "output_type": "execute_result"
    }
   ],
   "source": [
    "df.drop(['Unnamed: 0'],axis=1)"
   ]
  },
  {
   "cell_type": "markdown",
   "metadata": {},
   "source": [
    "###### Checking number and location of all the NaN values in the dataframe"
   ]
  },
  {
   "cell_type": "code",
   "execution_count": 4,
   "metadata": {},
   "outputs": [
    {
     "name": "stdout",
     "output_type": "stream",
     "text": [
      "Count of NaN: Unnamed: 0                            0\n",
      "Auftragskonto                        41\n",
      "Buchungstag                           0\n",
      "Valutadatum                           0\n",
      "Buchungstext                          0\n",
      "Verwendungszweck                      0\n",
      "Beguenstigter/Zahlungspflichtiger     0\n",
      "Kontonummer                           1\n",
      "BLZ                                   1\n",
      "Betrag                                0\n",
      "Waehrung                              0\n",
      "label                                 0\n",
      "dtype: int64\n"
     ]
    }
   ],
   "source": [
    "count_nan = df.isnull().sum()\n",
    "print ('Count of NaN: ' + str(count_nan))"
   ]
  },
  {
   "cell_type": "markdown",
   "metadata": {},
   "source": [
    "##### Replacing the NaN values in Auftragskonto column to the mean of the column"
   ]
  },
  {
   "cell_type": "code",
   "execution_count": 5,
   "metadata": {},
   "outputs": [],
   "source": [
    "df['Auftragskonto'].fillna((df['Auftragskonto'].mean()), inplace=True)"
   ]
  },
  {
   "cell_type": "markdown",
   "metadata": {},
   "source": [
    "##### Replacing the NaN values in Kotonummer column to zero"
   ]
  },
  {
   "cell_type": "code",
   "execution_count": 6,
   "metadata": {},
   "outputs": [],
   "source": [
    "df['Kontonummer'] = df['Kontonummer'].fillna(0)"
   ]
  },
  {
   "cell_type": "markdown",
   "metadata": {},
   "source": [
    "##### Replacing the NaN values in BLZ column to zero"
   ]
  },
  {
   "cell_type": "code",
   "execution_count": 7,
   "metadata": {},
   "outputs": [],
   "source": [
    "df['BLZ'] = df['BLZ'].fillna(0)"
   ]
  },
  {
   "cell_type": "markdown",
   "metadata": {},
   "source": [
    "##### Rechecking the Number of NaN Values remaining"
   ]
  },
  {
   "cell_type": "code",
   "execution_count": 8,
   "metadata": {},
   "outputs": [
    {
     "name": "stdout",
     "output_type": "stream",
     "text": [
      "Count of NaN: Unnamed: 0                           0\n",
      "Auftragskonto                        0\n",
      "Buchungstag                          0\n",
      "Valutadatum                          0\n",
      "Buchungstext                         0\n",
      "Verwendungszweck                     0\n",
      "Beguenstigter/Zahlungspflichtiger    0\n",
      "Kontonummer                          0\n",
      "BLZ                                  0\n",
      "Betrag                               0\n",
      "Waehrung                             0\n",
      "label                                0\n",
      "dtype: int64\n"
     ]
    }
   ],
   "source": [
    "count_nan = df.isnull().sum()\n",
    "print ('Count of NaN: ' + str(count_nan))"
   ]
  },
  {
   "cell_type": "markdown",
   "metadata": {},
   "source": [
    "##### Checking the data types of all the columns"
   ]
  },
  {
   "cell_type": "code",
   "execution_count": 9,
   "metadata": {
    "scrolled": true
   },
   "outputs": [
    {
     "name": "stdout",
     "output_type": "stream",
     "text": [
      "Unnamed: 0                             int64\n",
      "Auftragskonto                        float64\n",
      "Buchungstag                           object\n",
      "Valutadatum                           object\n",
      "Buchungstext                          object\n",
      "Verwendungszweck                      object\n",
      "Beguenstigter/Zahlungspflichtiger     object\n",
      "Kontonummer                           object\n",
      "BLZ                                   object\n",
      "Betrag                                object\n",
      "Waehrung                              object\n",
      "label                                 object\n",
      "dtype: object\n"
     ]
    }
   ],
   "source": [
    "print(df.dtypes)"
   ]
  },
  {
   "cell_type": "markdown",
   "metadata": {},
   "source": [
    "##### Selecting required columns from the data relevant to our task"
   ]
  },
  {
   "cell_type": "code",
   "execution_count": 10,
   "metadata": {},
   "outputs": [
    {
     "name": "stdout",
     "output_type": "stream",
     "text": [
      "<bound method NDFrame.head of                           Buchungstext Beguenstigter/Zahlungspflichtiger  \\\n",
      "0                        Lohn / Gehalt             Adorsys GmbH & Co. KG   \n",
      "1                                Miete                      Georg Tasche   \n",
      "2                              Bargeld                           Bargeld   \n",
      "3             Lebensmittel / Getraenke                     Kartenzahlung   \n",
      "4                       Spontanausgabe                  neue Playstation   \n",
      "..                                 ...                               ...   \n",
      "204                      Mieteinnahmen                       Isabel Anna   \n",
      "205                         Geldanlage                    Michael Koffer   \n",
      "206                      Lohn / Gehalt             Adorsys GmbH & Co. KG   \n",
      "207                         Geldanlage                    Christina Jung   \n",
      "208  Lastschrift (Einzugsermächtigung)                               Vag   \n",
      "\n",
      "                                      Verwendungszweck  \\\n",
      "0    Gehalt Adorsys GmbH & Co. KG End-To-End-Ref.: ...   \n",
      "1    Byladem1Sbt De12773501123456789889 Miete Beuth...   \n",
      "2    21.07/16.34Uhr Nuernberg All Eur 70,00 Geb.Eur...   \n",
      "3    2831 Edeka Neubauer Nuernb.//Nuernb 2016-07-20...   \n",
      "4                                               Amazon   \n",
      "..                                                 ...   \n",
      "204  Mietzuschuss End-To-End-Ref.: Notprovided Kund...   \n",
      "205  Ccbade31Xxx De71310108339900123456 Sparen End-...   \n",
      "206  Gehalt Adorsys GmbH & Co. KG End-To-End-Ref.: ...   \n",
      "207  Ssknde77Xxx De41760501010012345675 Einmalspare...   \n",
      "208                         Abonnement Kd-Nr. 5104489.   \n",
      "\n",
      "                Kontonummer          BLZ    Betrag  \n",
      "0                7807800780     25190001   2000.00  \n",
      "1    DE31251900019123456780  VOHADE2HXXX   -670.00  \n",
      "2                9999900780     25190001    -70.00  \n",
      "3                9736000780     25190001    -73.21  \n",
      "4                9988776655     25125100      -363  \n",
      "..                      ...          ...       ...  \n",
      "204  DE31251900019736000780  VOHADE2HXXX    200.00  \n",
      "205  DE69790800529736000780  DRESDEFF790   -300.00  \n",
      "206              7807800780     25190001   2000.00  \n",
      "207  DE31251900019736333780  VOHADE2HXXX  -4000.00  \n",
      "208  DE89760501010001011500     SSKNDE77     -51,2  \n",
      "\n",
      "[209 rows x 6 columns]>\n"
     ]
    }
   ],
   "source": [
    "X = df[['Buchungstext','Beguenstigter/Zahlungspflichtiger','Verwendungszweck','Kontonummer','BLZ','Betrag']]\n",
    "print(X.head)"
   ]
  },
  {
   "cell_type": "code",
   "execution_count": 11,
   "metadata": {},
   "outputs": [
    {
     "name": "stdout",
     "output_type": "stream",
     "text": [
      "<bound method NDFrame.head of 0                income\n",
      "1                living\n",
      "2               private\n",
      "3      standardOfLiving\n",
      "4               leisure\n",
      "             ...       \n",
      "204             finance\n",
      "205             finance\n",
      "206              income\n",
      "207             finance\n",
      "208             leisure\n",
      "Name: label, Length: 209, dtype: object>\n"
     ]
    }
   ],
   "source": [
    "Y= df['label']\n",
    "print(Y.head)"
   ]
  },
  {
   "cell_type": "markdown",
   "metadata": {},
   "source": [
    "##### Splitting our data set into training and testing data"
   ]
  },
  {
   "cell_type": "code",
   "execution_count": 12,
   "metadata": {},
   "outputs": [],
   "source": [
    "X_train, X_test, y_train, y_test = train_test_split(X, Y,test_size=0.20, random_state = 0)"
   ]
  },
  {
   "cell_type": "markdown",
   "metadata": {},
   "source": [
    "##### Checking the shape of our split data"
   ]
  },
  {
   "cell_type": "code",
   "execution_count": 13,
   "metadata": {},
   "outputs": [
    {
     "name": "stdout",
     "output_type": "stream",
     "text": [
      "(167, 6)\n",
      "(42, 6)\n",
      "(167,)\n",
      "(42,)\n"
     ]
    }
   ],
   "source": [
    "print(X_train.shape)\n",
    "print(X_test.shape)\n",
    "print(y_train.shape)\n",
    "print(y_test.shape)"
   ]
  },
  {
   "cell_type": "code",
   "execution_count": 14,
   "metadata": {},
   "outputs": [
    {
     "name": "stdout",
     "output_type": "stream",
     "text": [
      "104    leisure\n",
      "141    leisure\n",
      "4      leisure\n",
      "74     leisure\n",
      "136    leisure\n",
      "        ...   \n",
      "67     private\n",
      "192    finance\n",
      "117     living\n",
      "47     finance\n",
      "172    finance\n",
      "Name: label, Length: 167, dtype: category\n",
      "Categories (6, object): ['finance', 'income', 'leisure', 'living', 'private', 'standardOfLiving']\n"
     ]
    }
   ],
   "source": [
    "print(y_train.astype('category'))"
   ]
  },
  {
   "cell_type": "code",
   "execution_count": 15,
   "metadata": {},
   "outputs": [
    {
     "name": "stdout",
     "output_type": "stream",
     "text": [
      "(167,)\n"
     ]
    }
   ],
   "source": [
    "print(X_train['Buchungstext'].shape)"
   ]
  },
  {
   "cell_type": "markdown",
   "metadata": {},
   "source": [
    "##### We build a vocabulary of known words in the column of Buchungstext and convert to vector form"
   ]
  },
  {
   "cell_type": "code",
   "execution_count": 16,
   "metadata": {},
   "outputs": [
    {
     "name": "stdout",
     "output_type": "stream",
     "text": [
      "['ausland', 'bargeld', 'belastung', 'dauerauftrag', 'drogerie', 'einzugsermächtigung', 'euro', 'euroscheck', 'gaa', 'gehalt', 'geldanlage', 'getraenke', 'lastschrift', 'lebensmittel', 'lohn', 'miete', 'mieteinnahmen', 'rente', 'spontanausgabe', 'überweisung']\n"
     ]
    }
   ],
   "source": [
    "count_vect1 = CountVectorizer()\n",
    "fit_vect1 = count_vect1.fit(X_train['Buchungstext'])\n",
    "\n",
    "vectorized_Buchungstext = fit_vect1.fit_transform(X_train['Buchungstext']).toarray()\n",
    "vectorized_Buchungstext =pd.DataFrame(vectorized_Buchungstext)\n",
    "\n",
    "features1 = count_vect1.get_feature_names()\n",
    "print(features1)"
   ]
  },
  {
   "cell_type": "markdown",
   "metadata": {},
   "source": [
    "##### We build a vocabulary of known words in the column of Beguenstigter/Zahlungspflichtiger and convert to vector form"
   ]
  },
  {
   "cell_type": "code",
   "execution_count": 17,
   "metadata": {},
   "outputs": [],
   "source": [
    "count_vect2 = CountVectorizer()\n",
    "fit_vect2 = count_vect2.fit(X_train['Beguenstigter/Zahlungspflichtiger'])\n",
    "vectorized_Beguenstigter = fit_vect2.fit_transform(X_train['Beguenstigter/Zahlungspflichtiger']).toarray()\n",
    "vectorized_Beguenstigter =pd.DataFrame(vectorized_Beguenstigter)\n",
    "\n",
    "features2 = count_vect2.get_feature_names()"
   ]
  },
  {
   "cell_type": "markdown",
   "metadata": {},
   "source": [
    "##### We build a vocabulary of known words in the column of Verwendungszweck and convert to vector form"
   ]
  },
  {
   "cell_type": "code",
   "execution_count": 18,
   "metadata": {},
   "outputs": [],
   "source": [
    "count_vect3 = CountVectorizer()\n",
    "fit_vect3 = count_vect3.fit(X_train['Verwendungszweck'])\n",
    "vectorized_Verwendungszweck = fit_vect3.fit_transform(X_train['Verwendungszweck']).toarray()\n",
    "vectorized_Verwendungszweck =pd.DataFrame(vectorized_Verwendungszweck)\n",
    "\n",
    "features3 = count_vect3.get_feature_names()"
   ]
  },
  {
   "cell_type": "markdown",
   "metadata": {},
   "source": [
    "##### We build a vocabulary of known data in the column of Kontonummer and convert to vector form"
   ]
  },
  {
   "cell_type": "code",
   "execution_count": 19,
   "metadata": {},
   "outputs": [
    {
     "name": "stdout",
     "output_type": "stream",
     "text": [
      "(167, 48)\n"
     ]
    }
   ],
   "source": [
    "count_vect4 = CountVectorizer(lowercase=False)\n",
    "fit_vect4 = count_vect4.fit(X_train['Kontonummer'].apply(str))\n",
    "vectorized_Kontonummer = fit_vect4.fit_transform(X_train['Kontonummer'].apply(str)).toarray()\n",
    "vectorized_Kontonummer =pd.DataFrame(vectorized_Kontonummer)\n",
    "print(vectorized_Kontonummer.shape)\n",
    "\n",
    "features4 = count_vect4.get_feature_names()"
   ]
  },
  {
   "cell_type": "markdown",
   "metadata": {},
   "source": [
    "##### We concatenate all the vocabulary buit"
   ]
  },
  {
   "cell_type": "code",
   "execution_count": 20,
   "metadata": {},
   "outputs": [
    {
     "data": {
      "text/plain": [
       "(167, 464)"
      ]
     },
     "execution_count": 20,
     "metadata": {},
     "output_type": "execute_result"
    }
   ],
   "source": [
    "Vectorized_X_train = pd.concat([vectorized_Buchungstext, vectorized_Beguenstigter, vectorized_Verwendungszweck, vectorized_Kontonummer], axis = 1)\n",
    "Vectorized_X_train.shape"
   ]
  },
  {
   "cell_type": "markdown",
   "metadata": {},
   "source": [
    "##### Transforming the test data to fit the vector form"
   ]
  },
  {
   "cell_type": "code",
   "execution_count": 21,
   "metadata": {},
   "outputs": [
    {
     "name": "stdout",
     "output_type": "stream",
     "text": [
      "(42, 20)\n",
      "(42, 97)\n",
      "(42, 299)\n",
      "(42, 48)\n"
     ]
    }
   ],
   "source": [
    "testBuchungstext = fit_vect1.transform(X_test['Buchungstext']).toarray()\n",
    "testBuchungstext =pd.DataFrame(testBuchungstext)\n",
    "print(testBuchungstext.shape)\n",
    "\n",
    "testBeguenstigter = fit_vect2.transform(X_test['Beguenstigter/Zahlungspflichtiger']).toarray()\n",
    "testBeguenstigter =pd.DataFrame(testBeguenstigter)\n",
    "print(testBeguenstigter.shape)\n",
    "\n",
    "testVerwendungszweck = fit_vect3.transform(X_test['Verwendungszweck']).toarray()\n",
    "testVerwendungszweck =pd.DataFrame(testVerwendungszweck)\n",
    "print(testVerwendungszweck.shape)\n",
    "\n",
    "\n",
    "testKontonummer = fit_vect4.transform(X_test['Kontonummer'].apply(str)).toarray()\n",
    "testKontonummer =pd.DataFrame(testKontonummer)\n",
    "print(testKontonummer.shape)"
   ]
  },
  {
   "cell_type": "markdown",
   "metadata": {},
   "source": [
    "##### We concatenate all the vocabulary in the test data"
   ]
  },
  {
   "cell_type": "code",
   "execution_count": 22,
   "metadata": {},
   "outputs": [
    {
     "name": "stdout",
     "output_type": "stream",
     "text": [
      "(167, 464)\n",
      "(167,)\n"
     ]
    }
   ],
   "source": [
    "Vectorized_X_test = pd.concat([testBuchungstext, testBeguenstigter, testVerwendungszweck, testKontonummer], axis = 1)\n",
    "Vectorized_X_test.shape\n",
    "\n",
    "print(Vectorized_X_train.shape)\n",
    "print(y_train.shape)"
   ]
  },
  {
   "cell_type": "markdown",
   "metadata": {},
   "source": [
    "##### Applying Gaussian Naive Bayes Model"
   ]
  },
  {
   "cell_type": "code",
   "execution_count": 23,
   "metadata": {
    "scrolled": true
   },
   "outputs": [
    {
     "name": "stdout",
     "output_type": "stream",
     "text": [
      "['finance' 'leisure' 'finance' 'finance' 'finance' 'living' 'leisure'\n",
      " 'leisure' 'living' 'leisure' 'finance' 'leisure' 'standardOfLiving'\n",
      " 'living' 'leisure' 'leisure' 'finance' 'standardOfLiving' 'private'\n",
      " 'standardOfLiving' 'income' 'standardOfLiving' 'standardOfLiving'\n",
      " 'leisure' 'leisure' 'leisure' 'leisure' 'living' 'leisure'\n",
      " 'standardOfLiving' 'standardOfLiving' 'leisure' 'leisure' 'leisure'\n",
      " 'standardOfLiving' 'standardOfLiving' 'standardOfLiving' 'living'\n",
      " 'standardOfLiving' 'leisure' 'standardOfLiving' 'living']\n"
     ]
    }
   ],
   "source": [
    "model = GaussianNB()\n",
    "model.fit(Vectorized_X_train, y_train)\n",
    "y_pred = model.predict(Vectorized_X_test)\n",
    "print(y_pred)"
   ]
  },
  {
   "cell_type": "markdown",
   "metadata": {},
   "source": [
    "##### Checking for the Accuracy of the model"
   ]
  },
  {
   "cell_type": "code",
   "execution_count": 24,
   "metadata": {
    "scrolled": true
   },
   "outputs": [
    {
     "name": "stdout",
     "output_type": "stream",
     "text": [
      "Accuracy score :  0.9523809523809523\n",
      "Precision score :  0.9801587301587302\n",
      "recall_score :  0.9523809523809523\n",
      "F1 score: 0.9640914640914641\n",
      "                  precision    recall  f1-score   support\n",
      "\n",
      "         finance       1.00      0.86      0.92         7\n",
      "          income       1.00      1.00      1.00         1\n",
      "         leisure       1.00      0.94      0.97        17\n",
      "          living       0.83      1.00      0.91         5\n",
      "         private       0.00      0.00      0.00         0\n",
      "standardOfLiving       1.00      1.00      1.00        12\n",
      "\n",
      "        accuracy                           0.95        42\n",
      "       macro avg       0.81      0.80      0.80        42\n",
      "    weighted avg       0.98      0.95      0.96        42\n",
      "\n"
     ]
    },
    {
     "name": "stderr",
     "output_type": "stream",
     "text": [
      "C:\\Users\\Deepakraj\\anaconda3\\lib\\site-packages\\sklearn\\metrics\\_classification.py:1221: UndefinedMetricWarning: Recall is ill-defined and being set to 0.0 in labels with no true samples. Use `zero_division` parameter to control this behavior.\n",
      "  _warn_prf(average, modifier, msg_start, len(result))\n",
      "C:\\Users\\Deepakraj\\anaconda3\\lib\\site-packages\\sklearn\\metrics\\_classification.py:1221: UndefinedMetricWarning: Recall and F-score are ill-defined and being set to 0.0 in labels with no true samples. Use `zero_division` parameter to control this behavior.\n",
      "  _warn_prf(average, modifier, msg_start, len(result))\n"
     ]
    }
   ],
   "source": [
    "print('Accuracy score : ',accuracy_score(y_test, y_pred))\n",
    "print('Precision score : ',precision_score(y_test, y_pred, average='weighted'))\n",
    "print('recall_score : ',recall_score(y_test, y_pred, average='weighted'))\n",
    "print('F1 score:',f1_score(y_test, y_pred, average='weighted'))\n",
    "print(classification_report(y_test, y_pred))"
   ]
  },
  {
   "cell_type": "code",
   "execution_count": 25,
   "metadata": {},
   "outputs": [
    {
     "data": {
      "image/png": "[encoded data removed]",
      "text/plain": [
       "<Figure size 432x288 with 2 Axes>"
      ]
     },
     "metadata": {
      "needs_background": "light"
     },
     "output_type": "display_data"
    }
   ],
   "source": [
    "plot_confusion_matrix(model, Vectorized_X_test, y_test)\n",
    "plt.tick_params(axis='x', which='major', labelsize=9)\n",
    "\n",
    "plt.xticks(rotation=45)\n",
    "plt.title('Confusion Matrix')\n",
    "plt.show()"
   ]
  }
 ],
 "metadata": {
  "kernelspec": {
   "display_name": "Python 3",
   "language": "python",
   "name": "python3"
  },
  "language_info": {
   "codemirror_mode": {
    "name": "ipython",
    "version": 3
   },
   "file_extension": ".py",
   "mimetype": "text/x-python",
   "name": "python",
   "nbconvert_exporter": "python",
   "pygments_lexer": "ipython3",
   "version": "3.8.5"
  }
 },
 "nbformat": 4,
 "nbformat_minor": 4
}
